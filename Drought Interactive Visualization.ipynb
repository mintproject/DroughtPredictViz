{
 "cells": [
  {
   "cell_type": "markdown",
   "metadata": {},
   "source": [
    "# DroughtPredict Visualization notebook\n",
    "\n",
    "This notebook allows to visualize the outputs of the MINT Drought Prediction model as well as the training accuracy.\n",
    "\n",
    "\n",
    "This notebook makes use of interactive visualization and needs to be executed (in cell order) after each initialization"
   ]
  },
  {
   "cell_type": "code",
   "execution_count": 1,
   "metadata": {},
   "outputs": [],
   "source": [
    "%matplotlib inline"
   ]
  },
  {
   "cell_type": "code",
   "execution_count": 2,
   "metadata": {},
   "outputs": [],
   "source": [
    "#Import Packages\n",
    "\n",
    "import cartopy.crs as ccrs\n",
    "import cartopy.feature as cfeature\n",
    "from IPython.display import display\n",
    "import ipywidgets as widgets\n",
    "import matplotlib.pyplot as plt\n",
    "from cartopy.mpl.gridliner import LONGITUDE_FORMATTER, LATITUDE_FORMATTER\n",
    "import xarray as xr\n",
    "import matplotlib.cm as cm\n",
    "import numpy as np\n",
    "import pandas as pd\n",
    "from scipy.stats import pearsonr"
   ]
  },
  {
   "cell_type": "markdown",
   "metadata": {},
   "source": [
    "## Visualising the output of the prediction model\n",
    "\n",
    "The dashboard below represents SPI values at lead time 1,2,3 and 4 months respectively (to be changed with the time slider) from the CNN model. The model was initialized with values from the ECMWF ERA5 datasets, which ends in September 2019. \n",
    "\n",
    "The top plots represent the spatial values. The bottom plot is a timeseries of the index for a particular location as specified in the lat/lon box. Note that the resolution of the model is coarse (1.5x1 deg grid), therefore selecting close points in lat/lon will not change the timeseries plot. "
   ]
  },
  {
   "cell_type": "code",
   "execution_count": 4,
   "metadata": {},
   "outputs": [
    {
     "data": {
      "application/vnd.jupyter.widget-view+json": {
       "model_id": "16f8d62ec3ff453382542ca6af5cc568",
       "version_major": 2,
       "version_minor": 0
      },
      "text/plain": [
       "interactive(children=(SelectionSlider(description='Time', options=('2020.10.01', '2020.11.01', '2020.12.01', '…"
      ]
     },
     "metadata": {},
     "output_type": "display_data"
    }
   ],
   "source": [
    "d_pred = xr.open_dataset('./data/results.nc')\n",
    "\n",
    "def find_nearest(array, value):\n",
    "    array = np.asarray(array)\n",
    "    idx = (np.abs(array - value)).argmin()\n",
    "    return idx\n",
    "\n",
    "def plot(time='2020.10.01',lon=23.75,lat=3.30):\n",
    "    d_pred = xr.open_dataset('./data/results.nc')\n",
    "    #Grab the proper lat/lon\n",
    "    lon_idx=find_nearest(d_pred.longitude.values,float(lon))\n",
    "    lat_idx=find_nearest(d_pred.latitude.values,float(lat))\n",
    "    \n",
    "    #Create the figure\n",
    "    levels = np.arange(-4,4.2,0.2)\n",
    "    fig = plt.figure(figsize=[10,8])\n",
    "\n",
    "    #make the temportal plot\n",
    "    ax2 = plt.subplot(2,1,2)\n",
    "    ax2.plot(d_pred.time.values,d_pred.spi.values[:,lat_idx,lon_idx],marker='o')\n",
    "    ax2.set_title('SPI for coordinates '+'{0:.2f}'.format(d_pred.latitude.values[lat_idx])+' latitude and '+'{0:.2f}'.format(d_pred.longitude.values[lon_idx])+ ' longitude')\n",
    "    ax2.set_ylabel('Standardized Precipitation Index (unitless)')\n",
    "    ax2.set_ylim(-4,4)\n",
    "    ax2.set_xticks(d_pred.time.values)\n",
    "    \n",
    "    #Make the spatial plot\n",
    "    ax1 = plt.subplot(2,1,1,projection=ccrs.PlateCarree())\n",
    "    d_pred['spi'].sel(time=time).plot.contourf(ax=ax1,levels = levels,\n",
    "                  transform=ccrs.PlateCarree(), cmap=cm.BrBG, cbar_kwargs={'orientation':'vertical'})\n",
    "    #Add borders and coastlines\n",
    "    ax1.add_feature(cfeature.BORDERS)\n",
    "    ax1.add_feature(cfeature.COASTLINE)\n",
    "    # Pretty up the plot\n",
    "    gl = ax1.gridlines(crs=ccrs.PlateCarree(), draw_labels=True,\n",
    "                      linewidth=2, color='gray', alpha=0.5, linestyle='--')\n",
    "    gl.top_labels = False\n",
    "    gl.right_labels = False\n",
    "    gl.xlines = False\n",
    "    gl.ylines = False\n",
    "    gl.xformatter = LONGITUDE_FORMATTER\n",
    "    gl.yformatter = LATITUDE_FORMATTER\n",
    "    gl.xlabel_style = {'size': 12, 'color': 'gray'}\n",
    "    gl.ylabel_style = {'size': 12, 'color': 'gray'}\n",
    "    d_pred.close()\n",
    "\n",
    "#Widgets\n",
    "time_strings = pd.to_datetime(d_pred.time.values).strftime('%Y.%m.%d')\n",
    "time_widget = widgets.SelectionSlider(description='Time', options=time_strings, width='40%')\n",
    "lon_widget = widgets.FloatText(value=23.75,description='longitude')\n",
    "lat_widget = widgets.FloatText(value=3.30,description='latitude')\n",
    "x = widgets.interactive(plot,time=time_widget,lon=lon_widget,lat=lat_widget)    \n",
    "display(x)"
   ]
  },
  {
   "cell_type": "markdown",
   "metadata": {},
   "source": [
    "## Visualizing the accuracy of the prediction model based on test results\n",
    "\n",
    "### Spatial correlation\n",
    "\n",
    "In the dashboard below, the top plots represent the SPI values for ECMWF-ERA5 (test dataset, ground truth) and the the CNN model. Users can select a start date for the simulation using the 'time' slider and a lead time, using the 'lead time' slider. A selection of time='2019.01.01' woth lead time of 1 will show spatial plots for 2019.02.01.\n",
    "\n",
    "The timeseries plot represents the SPI value for a specific location (adjusted through the lat/lon boxes) with lead time of 1 to 4 months. The start time can be selected using the time slider. Note that the CNN prediction is NaN for the start time (no prediction has been made) but this value from ECMWF is used to initialize the prediction."
   ]
  },
  {
   "cell_type": "code",
   "execution_count": 5,
   "metadata": {},
   "outputs": [
    {
     "data": {
      "application/vnd.jupyter.widget-view+json": {
       "model_id": "c267ba7420db4a1bb1a6da4820ffc1c2",
       "version_major": 2,
       "version_minor": 0
      },
      "text/plain": [
       "interactive(children=(SelectionSlider(description='Time', options=('1982.01.01', '1982.02.01', '1982.03.01', '…"
      ]
     },
     "metadata": {},
     "output_type": "display_data"
    }
   ],
   "source": [
    "d_test = xr.open_dataset('./data/ECMWF_EA_SPI.nc')\n",
    "\n",
    "def find_nearest(array, value):\n",
    "    array = np.asarray(array)\n",
    "    idx = (np.abs(array - value)).argmin()\n",
    "    return idx\n",
    "\n",
    "def plot_accuracy(time='1982.01.01',lead_time='1',lon=23.75,lat=3.30):\n",
    "    d_test = xr.open_dataset('./data/ECMWF_EA_SPI.nc')\n",
    "    d_1month = xr.open_dataset('./data/test_results_1_month_lead.nc')\n",
    "    d_2month = xr.open_dataset('./data/test_results_2_month_lead.nc')\n",
    "    d_3month = xr.open_dataset('./data/test_results_3_month_lead.nc')\n",
    "    d_4month = xr.open_dataset('./data/test_results_4_month_lead.nc')\n",
    "    #Grab the proper lat/lon\n",
    "    lon_idx=find_nearest(d_pred.longitude.values,float(lon))\n",
    "    lat_idx=find_nearest(d_pred.latitude.values,float(lat))\n",
    "    lead_time = int(lead_time)\n",
    "    \n",
    "    #Create the figure\n",
    "    levels = np.arange(-4,4.2,0.2)\n",
    "    fig = plt.figure(figsize=[15,8])\n",
    "    \n",
    "    #Make the 2 spatial plots\n",
    "    #ECMWF\n",
    "    ax1 = plt.subplot(2,2,1,projection=ccrs.PlateCarree())\n",
    "    d_test['spi'].sel(time=pd.to_datetime(time)+pd.DateOffset(months=lead_time)).plot.contourf(ax=ax1,levels = levels,\n",
    "                  transform=ccrs.PlateCarree(), cmap=cm.BrBG, cbar_kwargs={'orientation':'vertical'})\n",
    "    #Add borders and coastlines\n",
    "    ax1.add_feature(cfeature.BORDERS)\n",
    "    ax1.add_feature(cfeature.COASTLINE)\n",
    "    ax1.set_title('ECMWF-ERA5; time='+(pd.to_datetime(time)+pd.DateOffset(months=lead_time)).strftime('%Y-%m-%d'))\n",
    "    # Pretty up the plot\n",
    "    gl1 = ax1.gridlines(crs=ccrs.PlateCarree(), draw_labels=True,\n",
    "                      linewidth=2, color='gray', alpha=0.5, linestyle='--')\n",
    "    gl1.top_labels = False\n",
    "    gl1.right_labels = False\n",
    "    gl1.xlines = False\n",
    "    gl1.ylines = False\n",
    "    gl1.xformatter = LONGITUDE_FORMATTER\n",
    "    gl1.yformatter = LATITUDE_FORMATTER\n",
    "    gl1.xlabel_style = {'size': 12, 'color': 'gray'}\n",
    "    gl1.ylabel_style = {'size': 12, 'color': 'gray'}\n",
    "    \n",
    "    #CNN\n",
    "    ax2 = plt.subplot(2,2,2,projection=ccrs.PlateCarree())\n",
    "    if lead_time==1:\n",
    "        d_1month['spi'].sel(time=pd.to_datetime(time)+pd.DateOffset(months=lead_time)).plot.contourf(ax=ax2,levels = levels,\n",
    "                  transform=ccrs.PlateCarree(), cmap=cm.BrBG, cbar_kwargs={'orientation':'vertical'}) \n",
    "    elif lead_time==2:\n",
    "        d_2month['spi'].sel(time=pd.to_datetime(time)+pd.DateOffset(months=lead_time)).plot.contourf(ax=ax2,levels = levels,\n",
    "                  transform=ccrs.PlateCarree(), cmap=cm.BrBG, cbar_kwargs={'orientation':'vertical'})\n",
    "    elif lead_time==3:\n",
    "        d_3month['spi'].sel(time=pd.to_datetime(time)+pd.DateOffset(months=lead_time)).plot.contourf(ax=ax2,levels = levels,\n",
    "                  transform=ccrs.PlateCarree(), cmap=cm.BrBG, cbar_kwargs={'orientation':'vertical'})\n",
    "    elif lead_time==4:\n",
    "        d_4month['spi'].sel(time=pd.to_datetime(time)+pd.DateOffset(months=lead_time)).plot.contourf(ax=ax2,levels = levels,\n",
    "                  transform=ccrs.PlateCarree(), cmap=cm.BrBG, cbar_kwargs={'orientation':'vertical'})\n",
    "    #Add borders and coastlines\n",
    "    ax2.add_feature(cfeature.BORDERS)\n",
    "    ax2.add_feature(cfeature.COASTLINE)\n",
    "    ax2.set_title('CNN; time='+(pd.to_datetime(time)+pd.DateOffset(months=lead_time)).strftime('%Y-%m-%d'))\n",
    "    # Pretty up the plot\n",
    "    gl2 = ax2.gridlines(crs=ccrs.PlateCarree(), draw_labels=True,\n",
    "                      linewidth=2, color='gray', alpha=0.5, linestyle='--')\n",
    "    gl2.top_labels = False\n",
    "    gl2.right_labels = False\n",
    "    gl2.xlines = False\n",
    "    gl2.ylines = False\n",
    "    gl2.xformatter = LONGITUDE_FORMATTER\n",
    "    gl2.yformatter = LATITUDE_FORMATTER\n",
    "    gl2.xlabel_style = {'size': 12, 'color': 'gray'}\n",
    "    gl2.ylabel_style = {'size': 12, 'color': 'gray'}\n",
    "    \n",
    "    #make the temporal plot\n",
    "    ax3 = plt.subplot(2,2,(3,4))\n",
    "    t=slice(pd.to_datetime(time),pd.to_datetime(time)+pd.DateOffset(months=4))\n",
    "    d_test_ = d_test.sel(time=t).spi.values[:,lat_idx,lon_idx]\n",
    "    t_val= d_test.sel(time=t).time.values\n",
    "    \n",
    "    # get the values for the predictions\n",
    "    pred =[]\n",
    "    pred.append(d_1month.sel(time=pd.to_datetime(time)+pd.DateOffset(months=1)).spi.values[lat_idx,lon_idx])\n",
    "    pred.append(d_2month.sel(time=pd.to_datetime(time)+pd.DateOffset(months=2)).spi.values[lat_idx,lon_idx])\n",
    "    pred.append(d_3month.sel(time=pd.to_datetime(time)+pd.DateOffset(months=3)).spi.values[lat_idx,lon_idx])\n",
    "    pred.append(d_4month.sel(time=pd.to_datetime(time)+pd.DateOffset(months=4)).spi.values[lat_idx,lon_idx])\n",
    "    \n",
    "    ax3.plot(t_val,d_test_,marker='o',label='ECMWF-ERA5')\n",
    "    ax3.plot(t_val[1:],np.array(pred),marker='^',label='CNN')\n",
    "    ax3.set_title('SPI for coordinates '+'{0:.2f}'.format(d_pred.latitude.values[lat_idx])+' latitude and '+'{0:.2f}'.format(d_pred.longitude.values[lon_idx])+ ' longitude')\n",
    "    ax3.set_ylabel('Standardized Precipitation Index (unitless)')\n",
    "    ax3.set_ylim(-4,4)\n",
    "    ax3.set_xticks(t_val) \n",
    "    ax3.legend(loc='best')\n",
    "    \n",
    "    d_test.close()\n",
    "    d_1month.close()\n",
    "    d_2month.close()\n",
    "    d_3month.close()\n",
    "    d_4month.close()\n",
    "\n",
    "#Widgets\n",
    "time2_strings = pd.to_datetime(d_test.time.values[12:-36]).strftime('%Y.%m.%d')\n",
    "time2_widget = widgets.SelectionSlider(description='Time', options=time2_strings, width='40%')\n",
    "lead_time_strings = ['1','2','3','4']\n",
    "lead_time_widget = widgets.SelectionSlider(description='Lead Time', options=lead_time_strings, width='40%')\n",
    "lon_widget = widgets.FloatText(value=23.75,description='longitude')\n",
    "lat_widget = widgets.FloatText(value=3.30,description='latitude')\n",
    "x2 = widgets.interactive(plot_accuracy,time=time2_widget,lead_time=lead_time_widget,lon=lon_widget,lat=lat_widget)    \n",
    "display(x2)"
   ]
  },
  {
   "cell_type": "markdown",
   "metadata": {},
   "source": [
    "### Temporal correlation\n",
    "\n",
    "This dashboard shows the time correlation of the SPI with various lead times (as chosen by the lead_time slider) for the entire test period for a specific geographical location,set in the lat/lon text boxes."
   ]
  },
  {
   "cell_type": "code",
   "execution_count": 6,
   "metadata": {},
   "outputs": [
    {
     "data": {
      "application/vnd.jupyter.widget-view+json": {
       "model_id": "0276783c66574903b0dbd30b62301435",
       "version_major": 2,
       "version_minor": 0
      },
      "text/plain": [
       "interactive(children=(SelectionSlider(description='Lead Time', options=('1', '2', '3', '4'), value='1'), Float…"
      ]
     },
     "metadata": {},
     "output_type": "display_data"
    }
   ],
   "source": [
    "d_test = xr.open_dataset('./data/ECMWF_EA_SPI.nc')\n",
    "\n",
    "def find_nearest(array, value):\n",
    "    array = np.asarray(array)\n",
    "    idx = (np.abs(array - value)).argmin()\n",
    "    return idx\n",
    "\n",
    "def plot_corr(lead_time='1',lon=23.75,lat=3.30):\n",
    "    d_test = xr.open_dataset('./data/ECMWF_EA_SPI.nc')\n",
    "    d_1month = xr.open_dataset('./data/test_results_1_month_lead.nc')\n",
    "    d_2month = xr.open_dataset('./data/test_results_2_month_lead.nc')\n",
    "    d_3month = xr.open_dataset('./data/test_results_3_month_lead.nc')\n",
    "    d_4month = xr.open_dataset('./data/test_results_4_month_lead.nc')\n",
    "    #set the start/end date\n",
    "    start_date = '1982.01.01'\n",
    "    end_date = '2017.12.01'\n",
    "    #Grab the proper lat/lon\n",
    "    lon_idx=find_nearest(d_pred.longitude.values,float(lon))\n",
    "    lat_idx=find_nearest(d_pred.latitude.values,float(lat))\n",
    "    lead_time = int(lead_time)\n",
    "    t= slice(start_date,end_date)\n",
    "    t_val= d_test.sel(time=t).time.values\n",
    "    d_test_=d_test.sel(time=t).spi.values[:,lat_idx,lon_idx]\n",
    "    d1=d_1month.sel(time=t).spi.values[:,lat_idx,lon_idx]\n",
    "    d2=d_2month.sel(time=t).spi.values[:,lat_idx,lon_idx]\n",
    "    d3=d_3month.sel(time=t).spi.values[:,lat_idx,lon_idx]\n",
    "    d4=d_4month.sel(time=t).spi.values[:,lat_idx,lon_idx]\n",
    "    \n",
    "    fig = plt.figure(figsize=[15,8])\n",
    "    \n",
    "    if lead_time == 1:\n",
    "        plt.plot(t_val,d_test_,label='ECMWF-ERA5')\n",
    "        plt.plot(t_val,d1,label='CNN')\n",
    "        corr_=pearsonr(d_test_,d1)\n",
    "        plt.ylabel('Standardized Precipitation Index (unitless)')\n",
    "        plt.title('SPI at lead time='+ str(lead_time)+' month for coordinates '+'{0:.2f}'.format(d_pred.latitude.values[lat_idx])+' latitude and '+'{0:.2f}'.format(d_pred.longitude.values[lon_idx])+ ' longitude, corr='+'{0:.2f}'.format(corr_[0]))\n",
    "    elif lead_time == 2:\n",
    "        plt.plot(t_val,d_test_,label='ECMWF-ERA5')\n",
    "        plt.plot(t_val,d2,label='CNN')\n",
    "        corr_=pearsonr(d_test_,d2)\n",
    "        plt.ylabel('Standardized Precipitation Index (unitless)')\n",
    "        plt.title('SPI at lead time='+ str(lead_time)+' month for coordinates '+'{0:.2f}'.format(d_pred.latitude.values[lat_idx])+' latitude and '+'{0:.2f}'.format(d_pred.longitude.values[lon_idx])+ ' longitude, corr='+'{0:.2f}'.format(corr_[0]))\n",
    "    elif lead_time==3:\n",
    "        plt.plot(t_val,d_test_,label='ECMWF-ERA5')\n",
    "        plt.plot(t_val,d3,label='CNN')\n",
    "        corr_=pearsonr(d_test_,d3)\n",
    "        plt.ylabel('Standardized Precipitation Index (unitless)')\n",
    "        plt.title('SPI at lead time='+ str(lead_time)+' month for coordinates '+'{0:.2f}'.format(d_pred.latitude.values[lat_idx])+' latitude and '+'{0:.2f}'.format(d_pred.longitude.values[lon_idx])+ ' longitude, corr='+'{0:.2f}'.format(corr_[0]))\n",
    "    elif lead_time==4:\n",
    "        plt.plot(t_val,d_test_,label='ECMWF-ERA5')\n",
    "        plt.plot(t_val,d4,label='CNN')\n",
    "        corr_=pearsonr(d_test_,d4)\n",
    "        plt.ylabel('Standardized Precipitation Index (unitless)')\n",
    "        plt.title('SPI at lead time='+ str(lead_time)+' month for coordinates '+'{0:.2f}'.format(d_pred.latitude.values[lat_idx])+' latitude and '+'{0:.2f}'.format(d_pred.longitude.values[lon_idx])+ ' longitude, corr='+'{0:.2f}'.format(corr_[0]))\n",
    "    plt.legend(loc='best')\n",
    "    \n",
    "    d_test.close()\n",
    "    d_1month.close()\n",
    "    d_2month.close()\n",
    "    d_3month.close()\n",
    "    d_4month.close()\n",
    "\n",
    "#widgets\n",
    "lead_time_strings = ['1','2','3','4']\n",
    "lead_time_widget = widgets.SelectionSlider(description='Lead Time', options=lead_time_strings, width='40%')\n",
    "lon_widget = widgets.FloatText(value=23.75,description='longitude')\n",
    "lat_widget = widgets.FloatText(value=3.30,description='latitude')\n",
    "x3 = widgets.interactive(plot_corr,lead_time=lead_time_widget,lon=lon_widget,lat=lat_widget)    \n",
    "display(x3)"
   ]
  },
  {
   "cell_type": "code",
   "execution_count": null,
   "metadata": {},
   "outputs": [],
   "source": []
  }
 ],
 "metadata": {
  "kernelspec": {
   "display_name": "Python 3",
   "language": "python",
   "name": "python3"
  },
  "language_info": {
   "codemirror_mode": {
    "name": "ipython",
    "version": 3
   },
   "file_extension": ".py",
   "mimetype": "text/x-python",
   "name": "python",
   "nbconvert_exporter": "python",
   "pygments_lexer": "ipython3",
   "version": "3.8.5"
  }
 },
 "nbformat": 4,
 "nbformat_minor": 4
}
